{
 "cells": [
  {
   "cell_type": "code",
   "execution_count": 1,
   "metadata": {},
   "outputs": [
    {
     "name": "stdout",
     "output_type": "stream",
     "text": [
      "The history saving thread hit an unexpected error (DatabaseError('database disk image is malformed')).History will not be written to the database.\n"
     ]
    }
   ],
   "source": [
    "import pennylane as qml\n",
    "from pennylane import numpy as np\n",
    "import qiskit\n",
    "import sys\n",
    "import matplotlib.pyplot as plt"
   ]
  },
  {
   "cell_type": "markdown",
   "metadata": {},
   "source": [
    "## Problem description\n",
    "- Implement a circuit that returns $|01\\rangle$ and $|10\\rangle$ with equal probability.\n",
    "- Use only `CNOT`, `RX`, and `RY`.\n",
    "- Find parameters with gradient descent.\n",
    "- Simulations must be done with sampling and noise."
   ]
  },
  {
   "cell_type": "markdown",
   "metadata": {},
   "source": [
    "### Intuition\n",
    "The circuit that returns $|00\\rangle$ and $|10\\rangle$ with equal probability is one that generates a state vector of the form\n",
    "\n",
    "\\begin{equation}\n",
    "|\\Phi\\rangle = e^{i \\theta} \\frac{1}{\\sqrt{2}} [|01\\rangle + e^{i \\phi}|10\\rangle].\n",
    "\\end{equation}\n",
    "\n",
    "The global phase, $e^{i \\theta}$, is physically irrelevant. The relative phase $e^{i \\phi}$ will not effect the probabilities of measurement outcomes on this state, but different relative phase factors correspond to quantum states which *are* physically different.\n",
    "<br><br><br>\n",
    "To keep it simple, let's consider the state \n",
    "\\begin{equation}\n",
    "|\\Psi\\rangle = \\frac{1}{\\sqrt{2}} [|01\\rangle + |10\\rangle].\n",
    "\\end{equation}\n",
    "\n",
    "**What is the non-parametric circuit that generates this state vector?**\n",
    "\n",
    "Well, $|\\psi\\rangle$ looks kind of like the simplest Bell state $|\\beta_{00}\\rangle = \\frac{1}{\\sqrt{2}} [|00\\rangle + |11\\rangle]$, in fact $|\\Psi\\rangle$ is itself a Bell state. The state, $|\\beta_{00}\\rangle$, says that qubit one and qubit two will be in the same compuational basis state upon measurement. We want the opposite of that: if one qubit is in the $|0\\rangle$ state, the other ought to be in the $|1\\rangle$ state, and vice versa. Since, we want to flip the results, it sounds like we might need an `X` gate.\n",
    "<br><br>\n",
    "This intuition proves correct, as a simple way to implement the circuit that acheives our goals is to modify the familiar circuit for $|\\beta_{00}\\rangle$ by inserting an additional `X` gate on the second qubit."
   ]
  },
  {
   "cell_type": "code",
   "execution_count": 2,
   "metadata": {},
   "outputs": [
    {
     "name": "stdout",
     "output_type": "stream",
     "text": [
      "     ┌───┐     \n",
      "q_0: ┤ H ├──■──\n",
      "     ├───┤┌─┴─┐\n",
      "q_1: ┤ X ├┤ X ├\n",
      "     └───┘└───┘\n",
      "{'01': 0.5, '10': 0.5}\n"
     ]
    }
   ],
   "source": [
    "qc = qiskit.QuantumCircuit(2)\n",
    "qc.h(0)\n",
    "qc.x(1)\n",
    "qc.cx(0, 1)\n",
    "# qc.x(1) # alternative X-gate position\n",
    "\n",
    "backend = qiskit.Aer.get_backend(\"statevector_simulator\")\n",
    "psi = qiskit.execute(qc, backend).result().get_counts()\n",
    "\n",
    "print(qc)\n",
    "print(psi)"
   ]
  },
  {
   "cell_type": "markdown",
   "metadata": {},
   "source": [
    "**Now with our gate set**\n",
    "\n",
    "Our gate set is {`CNOT`, `RX`, `RY`}. So what is a corresponding parameteric circuit?\n",
    "\n",
    "Well, if we try to match gates from the circuit above to our gate set, obviously we have `CNOT`. Further, $RY(\\frac{\\pi}{2}) = H$. \n",
    "\n",
    "We can't exactly get the `X` with any paramaterization of a single `RX` or `RY`. However, we can get the same effect on the $|0\\rangle$ state as \n",
    "\\begin{equation}\n",
    "RY(\\pi)|0\\rangle = |1\\rangle, \\\\\n",
    "RX(\\pi)|0\\rangle = |1\\rangle.\n",
    "\\end{equation}\n",
    "\n",
    "I'll choose to use `RY`. This way, we keep the coefficients of our state vector purely real. "
   ]
  },
  {
   "cell_type": "code",
   "execution_count": 3,
   "metadata": {},
   "outputs": [
    {
     "name": "stdout",
     "output_type": "stream",
     "text": [
      "     ┌──────────┐     \n",
      "q_0: ┤ RY(pi/2) ├──■──\n",
      "     └┬────────┬┘┌─┴─┐\n",
      "q_1: ─┤ RY(pi) ├─┤ X ├\n",
      "      └────────┘ └───┘\n",
      "{'01': 0.5, '10': 0.5}\n"
     ]
    }
   ],
   "source": [
    "qc = qiskit.QuantumCircuit(2)\n",
    "qc.ry(np.pi/2, 0)\n",
    "qc.ry(np.pi, 1)\n",
    "qc.cx(0, 1)\n",
    "\n",
    "backend = qiskit.Aer.get_backend(\"statevector_simulator\")\n",
    "psi = qiskit.execute(qc, backend).result().get_counts()\n",
    "\n",
    "print(qc)\n",
    "print(psi)"
   ]
  },
  {
   "cell_type": "markdown",
   "metadata": {},
   "source": [
    "### Some analytic calculations\n",
    "We've proven that the circuit above is expressive enough to generate the state $|\\Psi\\rangle$.\n",
    "\n",
    "We can represent our parameterized circuit as\n",
    "\n",
    "\\begin{equation}\n",
    "CX_{0,1}RY_1(\\theta_1)RY_0(\\theta_0)|00\\rangle = |\\psi\\rangle.\n",
    "\\end{equation}\n",
    "\n",
    "With arbitrary prametizeration, doing the matrix calculations gives us\n",
    "\n",
    "\\begin{equation}\n",
    "|\\psi\\rangle = cos(\\theta_0)cos(\\theta_1)|00\\rangle + cos(\\theta_0)sin(\\theta_1)|01\\rangle + sin(\\theta_0)sin(\\theta_1)|10\\rangle + sin(\\theta_0)cos(\\theta_1)|11\\rangle.\n",
    "\\end{equation}\n",
    "<br><br>\n",
    "**How do we know if our circuit gives a good answer?**\n",
    "\n",
    "Since the problem requires that we sample we'll only have access the counts, and from the counts we can compute the probabilities of various measurement results. \n",
    "\n",
    "We know the desired probabilities -- in vector form they are $$ \\vec{y} = [0, 0.5, 0.5, 0]^T.$$\n",
    "\n",
    "The vector of probabilites given by $|\\psi\\rangle$ is \n",
    "\n",
    "\\begin{equation}\n",
    "\\vec{p} = [|cos(\\theta_0)cos(\\theta_1)|^2, |cos(\\theta_0)sin(\\theta_1)|^2, |sin(\\theta_0)sin(\\theta_1)|^2, |sin(\\theta_0)cos(\\theta_1)|^2].\n",
    "\\end{equation}\n",
    "\n",
    "But, we can simplify a bit. Notice that our coefficients are all real. For any $x \\in \\mathbb{R}$, we have $|x| = \\sqrt{x^2}$. With this identity we can simplify our probability vector,\n",
    "\n",
    "\\begin{equation}\n",
    "\\vec{p} = [(cos(\\theta_0)cos(\\theta_1))^2, (cos(\\theta_0)sin(\\theta_1))^2, (sin(\\theta_0)sin(\\theta_1))^2, (sin(\\theta_0)cos(\\theta_1))^2].\n",
    "\\end{equation}\n",
    "\n",
    "**Loss function**\n",
    "\n",
    "With, $\\vec{y}$ and $\\vec{p}$ we can construct a Mean Squared Error loss function, $\\mathcal{L}$.\n",
    "\n",
    "\\begin{equation}\n",
    "\\mathcal{L} = \\sum_i = (\\vec{p}_i - \\vec{y}_i)^2\n",
    "\\end{equation}"
   ]
  },
  {
   "cell_type": "code",
   "execution_count": 4,
   "metadata": {},
   "outputs": [],
   "source": [
    "y = np.array([0, 0.5, 0.5, 0])\n",
    "\n",
    "dev = qml.device('default.qubit', wires=2, shots=1000, analytic=False)\n",
    "\n",
    "@qml.qnode(dev)\n",
    "def circuit(theta_vector):\n",
    "    qml.RY(theta_vector[0], wires=0)\n",
    "    qml.CNOT(wires=[0,1])\n",
    "    qml.RY(theta_vector[1], wires=1)\n",
    "    return qml.probs([0, 1])\n",
    "\n",
    "def loss(theta_vector):\n",
    "    p = circuit(theta_vector)\n",
    "    return np.sum((p - y)**2)"
   ]
  },
  {
   "cell_type": "markdown",
   "metadata": {},
   "source": [
    "**The gradients and the update rule**\n",
    "\n",
    "To know how to update the parameters $\\theta_0$ and $\\theta_1$, we need to take the gradient of the loss function with respect to the parameters. \n",
    "\n",
    "\\begin{equation}\n",
    "\\nabla \\mathcal{L} = [\\frac{\\mathcal{L}}{\\theta_0}, \\frac{\\mathcal{L}}{\\theta_1}]^T\n",
    "\\end{equation}\n",
    "\n",
    "In our case, we can see that that $\\frac{\\mathcal{L}}{\\theta_0}$ and $\\frac{\\mathcal{L}}{\\theta_1}$ are simply going to be scalar values composed of the sum of terms which are various products of cosine and sine. \n",
    "\n",
    "The update rule is\n",
    "\\begin{equation}\n",
    "\\vec{\\theta}^{(t+1)} = \\vec{\\theta}^{(t)} - \\alpha \\nabla \\mathcal{L}.\n",
    "\\end{equation}\n",
    "\n"
   ]
  },
  {
   "cell_type": "markdown",
   "metadata": {},
   "source": [
    "## Implementation\n",
    "We can now combine our circuit ansatz, the loss function, and our gradient/update rule to solve our problem using PennyLane. Given, our above formulation, we could compute the gradients and update our parameters totally analyitically, but using the functionality of PennyLane demonstrates a more general (and easier) approach. "
   ]
  },
  {
   "cell_type": "code",
   "execution_count": 5,
   "metadata": {},
   "outputs": [
    {
     "name": "stdout",
     "output_type": "stream",
     "text": [
      "Cost after step     5:  1.4940080\n",
      "Cost after step    10:  0.7013360\n",
      "Cost after step    15:  0.3609000\n",
      "Cost after step    20:  0.2153660\n",
      "Cost after step    25:  0.0449700\n",
      "Cost after step    30:  0.0106760\n",
      "Cost after step    35:  0.0056540\n",
      "Cost after step    40:  0.0029300\n",
      "Cost after step    45:  0.0025800\n",
      "Cost after step    50:  0.0010140\n",
      "Cost after step    55:  0.0016140\n",
      "Cost after step    60:  0.0011260\n",
      "Cost after step    65:  0.0004540\n",
      "Cost after step    70:  0.0008520\n",
      "Cost after step    75:  0.0007260\n",
      "Cost after step    80:  0.0009780\n",
      "Cost after step    85:  0.0011240\n",
      "Cost after step    90:  0.0004420\n",
      "Cost after step    95:  0.0001740\n",
      "Cost after step   100:  0.0003460\n",
      "Optimized rotation angles: [1.5822876000000003, 2.890970799999999]\n"
     ]
    }
   ],
   "source": [
    "opt = qml.GradientDescentOptimizer(stepsize=0.4)\n",
    "\n",
    "# set the number of steps\n",
    "steps = 100\n",
    "# set the initial parameter values\n",
    "params = [0, 0]\n",
    "\n",
    "for i in range(steps):\n",
    "    # update the circuit parameters\n",
    "    params = opt.step(loss, params)\n",
    "\n",
    "    if (i + 1) % 5 == 0:\n",
    "        print(\"Cost after step {:5d}: {: .7f}\".format(i + 1, loss(params)))\n",
    "\n",
    "print(\"Optimized rotation angles: {}\".format(params))"
   ]
  },
  {
   "cell_type": "markdown",
   "metadata": {},
   "source": [
    "## Analysis\n",
    "\n",
    "Let's analyze the cost for different numbers of samples. We can see that as we increase the number of samples, the loss function decreases much more smoothly."
   ]
  },
  {
   "cell_type": "code",
   "execution_count": 6,
   "metadata": {},
   "outputs": [],
   "source": [
    "def circuit(theta_vector):\n",
    "    qml.RY(theta_vector[0], wires=0)\n",
    "    qml.CNOT(wires=[0,1])\n",
    "    qml.RY(theta_vector[1], wires=1)\n",
    "    return qml.probs([0, 1])\n",
    "\n",
    "def loss(theta_vector):\n",
    "    p = device_circuit(theta_vector)\n",
    "    return np.sum((p - y)**2)\n",
    "\n",
    "def device_optimizer():\n",
    "    opt = qml.GradientDescentOptimizer(stepsize=0.4)\n",
    "\n",
    "    # set the number of steps\n",
    "    steps = 100\n",
    "    # set the initial parameter values\n",
    "    params = [0, 0]\n",
    "    \n",
    "    losses = []\n",
    "    for i in range(steps):\n",
    "        # update the circuit parameters\n",
    "        params = opt.step(loss, params)\n",
    "        \n",
    "        losses.append(loss(params))\n",
    "\n",
    "    return params, losses"
   ]
  },
  {
   "cell_type": "code",
   "execution_count": 7,
   "metadata": {},
   "outputs": [],
   "source": [
    "n_shots_list = [1, 10, 100, 1000]\n",
    "param_list = []\n",
    "loss_list = []\n",
    "\n",
    "for n_shots in n_shots_list:\n",
    "    device = qml.device('default.qubit', wires=2, shots=n_shots, analytic=False)\n",
    "\n",
    "    device_circuit = qml.QNode(circuit, device)\n",
    "    \n",
    "    parms, losses = device_optimizer()\n",
    "    param_list.append(parms)\n",
    "    loss_list.append(losses)"
   ]
  },
  {
   "cell_type": "code",
   "execution_count": 8,
   "metadata": {},
   "outputs": [
    {
     "data": {
      "image/png": "[encoded data removed]",
      "text/plain": [
       "<Figure size 432x288 with 1 Axes>"
      ]
     },
     "metadata": {
      "needs_background": "light"
     },
     "output_type": "display_data"
    }
   ],
   "source": [
    "plt.plot(loss_list[0])\n",
    "plt.ylabel(\"Loss\")\n",
    "plt.xlabel(\"Step\")\n",
    "plt.title(\"1-shot -- Params after 100 steps ({:.2f}, {:.2f})\".format(param_list[0][0], param_list[0][1]))\n",
    "plt.show()"
   ]
  },
  {
   "cell_type": "code",
   "execution_count": 9,
   "metadata": {},
   "outputs": [
    {
     "data": {
      "image/png": "[encoded data removed]",
      "text/plain": [
       "<Figure size 432x288 with 1 Axes>"
      ]
     },
     "metadata": {
      "needs_background": "light"
     },
     "output_type": "display_data"
    }
   ],
   "source": [
    "plt.plot(loss_list[1])\n",
    "plt.ylabel(\"Loss\")\n",
    "plt.xlabel(\"Step\")\n",
    "plt.title(\"10-shots -- Params after 100 steps ({:.2f}, {:.2f})\".format(param_list[1][0], param_list[1][1]))\n",
    "plt.show()"
   ]
  },
  {
   "cell_type": "code",
   "execution_count": 10,
   "metadata": {},
   "outputs": [
    {
     "data": {
      "image/png": "[encoded data removed]",
      "text/plain": [
       "<Figure size 432x288 with 1 Axes>"
      ]
     },
     "metadata": {
      "needs_background": "light"
     },
     "output_type": "display_data"
    }
   ],
   "source": [
    "plt.plot(loss_list[2])\n",
    "plt.ylabel(\"Loss\")\n",
    "plt.xlabel(\"Step\")\n",
    "plt.title(\"100-shots -- Params after 100 steps ({:.2f}, {:.2f})\".format(param_list[2][0], param_list[2][1]))\n",
    "plt.show()"
   ]
  },
  {
   "cell_type": "code",
   "execution_count": 11,
   "metadata": {},
   "outputs": [
    {
     "data": {
      "image/png": "[encoded data removed]",
      "text/plain": [
       "<Figure size 432x288 with 1 Axes>"
      ]
     },
     "metadata": {
      "needs_background": "light"
     },
     "output_type": "display_data"
    }
   ],
   "source": [
    "plt.plot(loss_list[3])\n",
    "plt.ylabel(\"Loss\")\n",
    "plt.xlabel(\"Step\")\n",
    "plt.title(\"1000-shots -- Params after 100 steps ({:.2f}, {:.2f})\".format(param_list[3][0], param_list[3][1]))\n",
    "plt.show()"
   ]
  },
  {
   "cell_type": "code",
   "execution_count": null,
   "metadata": {},
   "outputs": [],
   "source": []
  }
 ],
 "metadata": {
  "kernelspec": {
   "display_name": "QML-env",
   "language": "python",
   "name": "qml-env"
  },
  "language_info": {
   "codemirror_mode": {
    "name": "ipython",
    "version": 3
   },
   "file_extension": ".py",
   "mimetype": "text/x-python",
   "name": "python",
   "nbconvert_exporter": "python",
   "pygments_lexer": "ipython3",
   "version": "3.8.1"
  }
 },
 "nbformat": 4,
 "nbformat_minor": 2
}
