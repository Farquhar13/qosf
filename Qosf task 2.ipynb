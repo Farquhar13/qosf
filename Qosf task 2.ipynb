{
 "cells": [
  {
   "cell_type": "code",
   "execution_count": 6,
   "metadata": {},
   "outputs": [],
   "source": [
    "import pennylane as qml\n",
    "from pennylane import numpy as np\n",
    "import qiskit"
   ]
  },
  {
   "cell_type": "markdown",
   "metadata": {},
   "source": [
    "## Problem description\n",
    "- Implement a circuit that returns $|00\\rangle$ and $|10\\rangle$ with equal probability.\n",
    "- Use only `CNOT`, `RX`, and `RY`.\n",
    "- Find parameters with gradient descent.\n",
    "- Simulations must be done with sampling and noise."
   ]
  },
  {
   "cell_type": "markdown",
   "metadata": {},
   "source": [
    "### Intuition\n",
    "The circuit that returns $|00\\rangle$ and $|10\\rangle$ with equal probability is one that generates the state vector\n",
    "\n",
    "\\begin{equation}\n",
    "|\\psi\\rangle = \\frac{1}{\\sqrt{2}} [|01\\rangle + |10\\rangle].\n",
    "\\end{equation}\n",
    "\n",
    "Now, what is the non-parametric circuit that generates this state vector?\n",
    "\n",
    "Well, $|\\psi\\rangle$ looks kind of like the simplest Bell state $|\\beta_{00}\\rangle = \\frac{1}{\\sqrt{2}} [|00\\rangle + |11\\rangle]$. This state, $|\\beta_{00}\\rangle$, says that qubit one and qubit two will be in the same compuational basis state upon measurement. We want the opposite of that: if one qubit is in the $|0\\rangle$ state, the other ought to be in the $|0\\rangle$ state, and vice versa. A simple way to implement the circuit that acheives our goals is to modify the familiar circuit for $|\\beta_{00}\\rangle$ by inserting an additional `X` gate on the first (as opposed the the zeroth) qubit."
   ]
  },
  {
   "cell_type": "code",
   "execution_count": 97,
   "metadata": {},
   "outputs": [
    {
     "name": "stdout",
     "output_type": "stream",
     "text": [
      "     ┌───┐     \n",
      "q_0: ┤ H ├──■──\n",
      "     ├───┤┌─┴─┐\n",
      "q_1: ┤ X ├┤ X ├\n",
      "     └───┘└───┘\n",
      "{'01': 0.5, '10': 0.5}\n"
     ]
    }
   ],
   "source": [
    "qc = qiskit.QuantumCircuit(2)\n",
    "qc.h(0)\n",
    "qc.x(1)\n",
    "qc.cx(0, 1)\n",
    "# qc.x(1) # alternative X-gate position\n",
    "\n",
    "backend = qiskit.Aer.get_backend(\"statevector_simulator\")\n",
    "psi = qiskit.execute(qc, backend).result().get_counts()\n",
    "\n",
    "print(qc)\n",
    "print(psi)"
   ]
  },
  {
   "cell_type": "markdown",
   "metadata": {},
   "source": [
    "Circuit matrix"
   ]
  },
  {
   "cell_type": "code",
   "execution_count": 105,
   "metadata": {},
   "outputs": [
    {
     "name": "stdout",
     "output_type": "stream",
     "text": [
      "[[ 0.        +0.00000000e+00j  0.        +0.00000000e+00j\n",
      "   0.70710678+0.00000000e+00j  0.70710678-8.65956056e-17j]\n",
      " [ 0.70710678+0.00000000e+00j -0.70710678+8.65956056e-17j\n",
      "   0.        +0.00000000e+00j  0.        +0.00000000e+00j]\n",
      " [ 0.70710678+0.00000000e+00j  0.70710678-8.65956056e-17j\n",
      "   0.        +0.00000000e+00j  0.        +0.00000000e+00j]\n",
      " [ 0.        +0.00000000e+00j  0.        +0.00000000e+00j\n",
      "   0.70710678+0.00000000e+00j -0.70710678+8.65956056e-17j]]\n"
     ]
    }
   ],
   "source": [
    "\n",
    "#Changing the simulator \n",
    "backend = qiskit.Aer.get_backend('unitary_simulator')\n",
    "\n",
    "result = qiskit.execute(qc, backend).result()\n",
    "\n",
    "print(result.get_unitary(qc, decimals=1))"
   ]
  },
  {
   "cell_type": "markdown",
   "metadata": {},
   "source": [
    "This is hadamard"
   ]
  },
  {
   "cell_type": "code",
   "execution_count": 80,
   "metadata": {},
   "outputs": [
    {
     "name": "stdout",
     "output_type": "stream",
     "text": [
      "     ┌──────────┐\n",
      "q_0: ┤ RY(pi/2) ├\n",
      "     └──────────┘\n",
      "{'0': 0.5, '1': 0.5}\n"
     ]
    }
   ],
   "source": [
    "qc = qiskit.QuantumCircuit(1)\n",
    "qc.ry(np.pi/2, 0)\n",
    "\n",
    "backend = qiskit.Aer.get_backend(\"statevector_simulator\")\n",
    "psi = qiskit.execute(qc, backend).result().get_counts()\n",
    "\n",
    "print(qc)\n",
    "print(psi)"
   ]
  },
  {
   "cell_type": "code",
   "execution_count": 107,
   "metadata": {},
   "outputs": [
    {
     "data": {
      "text/plain": [
       "array([[ 0.70710678+0.j, -0.70710678+0.j],\n",
       "       [ 0.70710678+0.j,  0.70710678+0.j]])"
      ]
     },
     "execution_count": 107,
     "metadata": {},
     "output_type": "execute_result"
    }
   ],
   "source": [
    "RY = lambda theta : qiskit.circuit.library.standard_gates.RYGate(theta)\n",
    "RY(np.pi/2).to_matrix()"
   ]
  },
  {
   "cell_type": "markdown",
   "metadata": {},
   "source": [
    "This is X with phase"
   ]
  },
  {
   "cell_type": "code",
   "execution_count": 119,
   "metadata": {},
   "outputs": [
    {
     "data": {
      "text/plain": [
       "array([[ 0.65328148+0.27059805j, -0.27059805-0.65328148j],\n",
       "       [ 0.27059805-0.65328148j,  0.65328148-0.27059805j]])"
      ]
     },
     "execution_count": 119,
     "metadata": {},
     "output_type": "execute_result"
    }
   ],
   "source": [
    "RX = lambda theta : qiskit.circuit.library.standard_gates.RXGate(theta)\n",
    "RY(np.pi/4).to_matrix() @ RX(np.pi/2).to_matrix()"
   ]
  },
  {
   "cell_type": "code",
   "execution_count": 116,
   "metadata": {},
   "outputs": [],
   "source": [
    "H = qiskit.circuit.library.standard_gates.HGate()\n"
   ]
  },
  {
   "cell_type": "code",
   "execution_count": 120,
   "metadata": {},
   "outputs": [
    {
     "data": {
      "text/plain": [
       "array([[0.70710678+0.j        , 0.        -0.70710678j],\n",
       "       [0.        -0.70710678j, 0.70710678+0.j        ]])"
      ]
     },
     "execution_count": 120,
     "metadata": {},
     "output_type": "execute_result"
    }
   ],
   "source": [
    "RX(np.pi/2).to_matrix()"
   ]
  },
  {
   "cell_type": "code",
   "execution_count": 134,
   "metadata": {},
   "outputs": [
    {
     "name": "stdout",
     "output_type": "stream",
     "text": [
      "     ┌───────────┐     \n",
      "q_0: ┤ RY(-pi/2) ├──■──\n",
      "     └─┬────────┬┘┌─┴─┐\n",
      "q_1: ──┤ RY(pi) ├─┤ X ├\n",
      "       └────────┘ └───┘\n",
      "[ 0.  +0.j -0.71+0.j  0.71+0.j -0.  +0.j]\n"
     ]
    }
   ],
   "source": [
    "qc = qiskit.QuantumCircuit(2)\n",
    "qc.ry(-np.pi/2, 0)\n",
    "qc.ry(np.pi, 1)\n",
    "qc.cx(0, 1)\n",
    "# qc.x(1) # alternative X-gate position\n",
    "\n",
    "backend = qiskit.Aer.get_backend(\"statevector_simulator\")\n",
    "psi = qiskit.execute(qc, backend).result().get_statevector()\n",
    "\n",
    "print(qc)\n",
    "print(psi.round(2))"
   ]
  },
  {
   "cell_type": "code",
   "execution_count": null,
   "metadata": {},
   "outputs": [],
   "source": []
  }
 ],
 "metadata": {
  "kernelspec": {
   "display_name": "QML-env",
   "language": "python",
   "name": "qml-env"
  },
  "language_info": {
   "codemirror_mode": {
    "name": "ipython",
    "version": 3
   },
   "file_extension": ".py",
   "mimetype": "text/x-python",
   "name": "python",
   "nbconvert_exporter": "python",
   "pygments_lexer": "ipython3",
   "version": "3.8.1"
  }
 },
 "nbformat": 4,
 "nbformat_minor": 2
}
